{
 "metadata": {
  "language_info": {
   "codemirror_mode": {
    "name": "ipython",
    "version": 3
   },
   "file_extension": ".py",
   "mimetype": "text/x-python",
   "name": "python",
   "nbconvert_exporter": "python",
   "pygments_lexer": "ipython3",
   "version": "3.8.5"
  },
  "orig_nbformat": 2,
  "kernelspec": {
   "name": "python3",
   "display_name": "Python 3.8.5 64-bit ('base': conda)",
   "metadata": {
    "interpreter": {
     "hash": "79d2ece5e4b4d0738bc31a2149b00babd380002f2210a9ac978f906105e92efa"
    }
   }
  }
 },
 "nbformat": 4,
 "nbformat_minor": 2,
 "cells": [
  {
   "cell_type": "code",
   "execution_count": 1,
   "metadata": {},
   "outputs": [],
   "source": [
    "import pandas as pd\n",
    "import numpy as np"
   ]
  },
  {
   "cell_type": "code",
   "execution_count": 3,
   "metadata": {},
   "outputs": [],
   "source": [
    "#Importing CSV files\n",
    "csv1 = \"Resources/202009-citibike-tripdata.csv\"\n",
    "csv2 = \"Resources/JC-201909-citibike-tripdata.csv\"\n",
    "bike_trip_2020 = pd.read_csv(csv1)\n",
    "bike_trip_2019 = pd.read_csv(csv2)"
   ]
  },
  {
   "cell_type": "code",
   "execution_count": 4,
   "metadata": {},
   "outputs": [
    {
     "output_type": "execute_result",
     "data": {
      "text/plain": [
       "   tripduration                 starttime                  stoptime  \\\n",
       "0           145  2019-09-01 00:00:37.6920  2019-09-01 00:03:03.0100   \n",
       "1           212  2019-09-01 00:03:00.6000  2019-09-01 00:06:33.3420   \n",
       "\n",
       "   start station id start station name  start station latitude  \\\n",
       "0              3640     Journal Square                40.73367   \n",
       "1              3194    McGinley Square                40.72534   \n",
       "\n",
       "   start station longitude  end station id end station name  \\\n",
       "0               -74.062500            3206          Hilltop   \n",
       "1               -74.067622            3679       Bergen Ave   \n",
       "\n",
       "   end station latitude  end station longitude  bikeid    usertype  \\\n",
       "0             40.731169             -74.057574   29303  Subscriber   \n",
       "1             40.722104             -74.071455   29297  Subscriber   \n",
       "\n",
       "   birth year  gender  \n",
       "0        1991       1  \n",
       "1        1993       2  "
      ],
      "text/html": "<div>\n<style scoped>\n    .dataframe tbody tr th:only-of-type {\n        vertical-align: middle;\n    }\n\n    .dataframe tbody tr th {\n        vertical-align: top;\n    }\n\n    .dataframe thead th {\n        text-align: right;\n    }\n</style>\n<table border=\"1\" class=\"dataframe\">\n  <thead>\n    <tr style=\"text-align: right;\">\n      <th></th>\n      <th>tripduration</th>\n      <th>starttime</th>\n      <th>stoptime</th>\n      <th>start station id</th>\n      <th>start station name</th>\n      <th>start station latitude</th>\n      <th>start station longitude</th>\n      <th>end station id</th>\n      <th>end station name</th>\n      <th>end station latitude</th>\n      <th>end station longitude</th>\n      <th>bikeid</th>\n      <th>usertype</th>\n      <th>birth year</th>\n      <th>gender</th>\n    </tr>\n  </thead>\n  <tbody>\n    <tr>\n      <th>0</th>\n      <td>145</td>\n      <td>2019-09-01 00:00:37.6920</td>\n      <td>2019-09-01 00:03:03.0100</td>\n      <td>3640</td>\n      <td>Journal Square</td>\n      <td>40.73367</td>\n      <td>-74.062500</td>\n      <td>3206</td>\n      <td>Hilltop</td>\n      <td>40.731169</td>\n      <td>-74.057574</td>\n      <td>29303</td>\n      <td>Subscriber</td>\n      <td>1991</td>\n      <td>1</td>\n    </tr>\n    <tr>\n      <th>1</th>\n      <td>212</td>\n      <td>2019-09-01 00:03:00.6000</td>\n      <td>2019-09-01 00:06:33.3420</td>\n      <td>3194</td>\n      <td>McGinley Square</td>\n      <td>40.72534</td>\n      <td>-74.067622</td>\n      <td>3679</td>\n      <td>Bergen Ave</td>\n      <td>40.722104</td>\n      <td>-74.071455</td>\n      <td>29297</td>\n      <td>Subscriber</td>\n      <td>1993</td>\n      <td>2</td>\n    </tr>\n  </tbody>\n</table>\n</div>"
     },
     "metadata": {},
     "execution_count": 4
    }
   ],
   "source": [
    "bike_2019_df = bike_trip_2019\n",
    "bike_2019_df.head(2)"
   ]
  },
  {
   "cell_type": "code",
   "execution_count": 5,
   "metadata": {},
   "outputs": [
    {
     "output_type": "execute_result",
     "data": {
      "text/plain": [
       "   tripduration                 starttime                  stoptime  \\\n",
       "0          4225  2020-09-01 00:00:01.0430  2020-09-01 01:10:26.6350   \n",
       "1          1868  2020-09-01 00:00:04.8320  2020-09-01 00:31:13.7650   \n",
       "\n",
       "   start station id               start station name  start station latitude  \\\n",
       "0              3508  St Nicholas Ave & Manhattan Ave               40.809725   \n",
       "1              3621                    27 Ave & 9 St               40.773983   \n",
       "\n",
       "   start station longitude  end station id         end station name  \\\n",
       "0               -73.953149             116          W 17 St & 8 Ave   \n",
       "1               -73.930913            3094  Graham Ave & Withers St   \n",
       "\n",
       "   end station latitude  end station longitude  bikeid  usertype  birth year  \\\n",
       "0             40.741776             -74.001497   44317  Customer        1979   \n",
       "1             40.716981             -73.944859   37793  Customer        1991   \n",
       "\n",
       "   gender  \n",
       "0       1  \n",
       "1       1  "
      ],
      "text/html": "<div>\n<style scoped>\n    .dataframe tbody tr th:only-of-type {\n        vertical-align: middle;\n    }\n\n    .dataframe tbody tr th {\n        vertical-align: top;\n    }\n\n    .dataframe thead th {\n        text-align: right;\n    }\n</style>\n<table border=\"1\" class=\"dataframe\">\n  <thead>\n    <tr style=\"text-align: right;\">\n      <th></th>\n      <th>tripduration</th>\n      <th>starttime</th>\n      <th>stoptime</th>\n      <th>start station id</th>\n      <th>start station name</th>\n      <th>start station latitude</th>\n      <th>start station longitude</th>\n      <th>end station id</th>\n      <th>end station name</th>\n      <th>end station latitude</th>\n      <th>end station longitude</th>\n      <th>bikeid</th>\n      <th>usertype</th>\n      <th>birth year</th>\n      <th>gender</th>\n    </tr>\n  </thead>\n  <tbody>\n    <tr>\n      <th>0</th>\n      <td>4225</td>\n      <td>2020-09-01 00:00:01.0430</td>\n      <td>2020-09-01 01:10:26.6350</td>\n      <td>3508</td>\n      <td>St Nicholas Ave &amp; Manhattan Ave</td>\n      <td>40.809725</td>\n      <td>-73.953149</td>\n      <td>116</td>\n      <td>W 17 St &amp; 8 Ave</td>\n      <td>40.741776</td>\n      <td>-74.001497</td>\n      <td>44317</td>\n      <td>Customer</td>\n      <td>1979</td>\n      <td>1</td>\n    </tr>\n    <tr>\n      <th>1</th>\n      <td>1868</td>\n      <td>2020-09-01 00:00:04.8320</td>\n      <td>2020-09-01 00:31:13.7650</td>\n      <td>3621</td>\n      <td>27 Ave &amp; 9 St</td>\n      <td>40.773983</td>\n      <td>-73.930913</td>\n      <td>3094</td>\n      <td>Graham Ave &amp; Withers St</td>\n      <td>40.716981</td>\n      <td>-73.944859</td>\n      <td>37793</td>\n      <td>Customer</td>\n      <td>1991</td>\n      <td>1</td>\n    </tr>\n  </tbody>\n</table>\n</div>"
     },
     "metadata": {},
     "execution_count": 5
    }
   ],
   "source": [
    "bike_2020_df = bike_trip_2020\n",
    "bike_2020_df.head(2)\n"
   ]
  },
  {
   "cell_type": "code",
   "execution_count": 6,
   "metadata": {},
   "outputs": [],
   "source": [
    "#deleting columns\n",
    "del bike_2019_df['usertype']\n",
    "del bike_2020_df['usertype']"
   ]
  },
  {
   "cell_type": "code",
   "execution_count": 8,
   "metadata": {},
   "outputs": [
    {
     "output_type": "execute_result",
     "data": {
      "text/plain": [
       "   tripduration                 starttime                  stoptime  \\\n",
       "0           145  2019-09-01 00:00:37.6920  2019-09-01 00:03:03.0100   \n",
       "1           212  2019-09-01 00:03:00.6000  2019-09-01 00:06:33.3420   \n",
       "2           569  2019-09-01 00:07:13.0020  2019-09-01 00:16:42.8610   \n",
       "3          1380  2019-09-01 00:07:25.3350  2019-09-01 00:30:26.1640   \n",
       "4          1346  2019-09-01 00:07:56.4670  2019-09-01 00:30:22.5440   \n",
       "\n",
       "   start station id start station name  start station latitude  \\\n",
       "0              3640     Journal Square               40.733670   \n",
       "1              3194    McGinley Square               40.725340   \n",
       "2              3214   Essex Light Rail               40.712774   \n",
       "3              3214   Essex Light Rail               40.712774   \n",
       "4              3214   Essex Light Rail               40.712774   \n",
       "\n",
       "   start station longitude  end station id            end station name  \\\n",
       "0               -74.062500            3206                     Hilltop   \n",
       "1               -74.067622            3679                  Bergen Ave   \n",
       "2               -74.036486            3184                 Paulus Hook   \n",
       "3               -74.036486            3792  Columbus Dr at Exchange Pl   \n",
       "4               -74.036486            3792  Columbus Dr at Exchange Pl   \n",
       "\n",
       "   end station latitude  end station longitude  bikeid  birth year  gender  \n",
       "0             40.731169             -74.057574   29303        1991       1  \n",
       "1             40.722104             -74.071455   29297        1993       2  \n",
       "2             40.714145             -74.033552   29435        1977       1  \n",
       "3             40.716870             -74.032810   29509        1965       1  \n",
       "4             40.716870             -74.032810   29226        1968       2  "
      ],
      "text/html": "<div>\n<style scoped>\n    .dataframe tbody tr th:only-of-type {\n        vertical-align: middle;\n    }\n\n    .dataframe tbody tr th {\n        vertical-align: top;\n    }\n\n    .dataframe thead th {\n        text-align: right;\n    }\n</style>\n<table border=\"1\" class=\"dataframe\">\n  <thead>\n    <tr style=\"text-align: right;\">\n      <th></th>\n      <th>tripduration</th>\n      <th>starttime</th>\n      <th>stoptime</th>\n      <th>start station id</th>\n      <th>start station name</th>\n      <th>start station latitude</th>\n      <th>start station longitude</th>\n      <th>end station id</th>\n      <th>end station name</th>\n      <th>end station latitude</th>\n      <th>end station longitude</th>\n      <th>bikeid</th>\n      <th>birth year</th>\n      <th>gender</th>\n    </tr>\n  </thead>\n  <tbody>\n    <tr>\n      <th>0</th>\n      <td>145</td>\n      <td>2019-09-01 00:00:37.6920</td>\n      <td>2019-09-01 00:03:03.0100</td>\n      <td>3640</td>\n      <td>Journal Square</td>\n      <td>40.733670</td>\n      <td>-74.062500</td>\n      <td>3206</td>\n      <td>Hilltop</td>\n      <td>40.731169</td>\n      <td>-74.057574</td>\n      <td>29303</td>\n      <td>1991</td>\n      <td>1</td>\n    </tr>\n    <tr>\n      <th>1</th>\n      <td>212</td>\n      <td>2019-09-01 00:03:00.6000</td>\n      <td>2019-09-01 00:06:33.3420</td>\n      <td>3194</td>\n      <td>McGinley Square</td>\n      <td>40.725340</td>\n      <td>-74.067622</td>\n      <td>3679</td>\n      <td>Bergen Ave</td>\n      <td>40.722104</td>\n      <td>-74.071455</td>\n      <td>29297</td>\n      <td>1993</td>\n      <td>2</td>\n    </tr>\n    <tr>\n      <th>2</th>\n      <td>569</td>\n      <td>2019-09-01 00:07:13.0020</td>\n      <td>2019-09-01 00:16:42.8610</td>\n      <td>3214</td>\n      <td>Essex Light Rail</td>\n      <td>40.712774</td>\n      <td>-74.036486</td>\n      <td>3184</td>\n      <td>Paulus Hook</td>\n      <td>40.714145</td>\n      <td>-74.033552</td>\n      <td>29435</td>\n      <td>1977</td>\n      <td>1</td>\n    </tr>\n    <tr>\n      <th>3</th>\n      <td>1380</td>\n      <td>2019-09-01 00:07:25.3350</td>\n      <td>2019-09-01 00:30:26.1640</td>\n      <td>3214</td>\n      <td>Essex Light Rail</td>\n      <td>40.712774</td>\n      <td>-74.036486</td>\n      <td>3792</td>\n      <td>Columbus Dr at Exchange Pl</td>\n      <td>40.716870</td>\n      <td>-74.032810</td>\n      <td>29509</td>\n      <td>1965</td>\n      <td>1</td>\n    </tr>\n    <tr>\n      <th>4</th>\n      <td>1346</td>\n      <td>2019-09-01 00:07:56.4670</td>\n      <td>2019-09-01 00:30:22.5440</td>\n      <td>3214</td>\n      <td>Essex Light Rail</td>\n      <td>40.712774</td>\n      <td>-74.036486</td>\n      <td>3792</td>\n      <td>Columbus Dr at Exchange Pl</td>\n      <td>40.716870</td>\n      <td>-74.032810</td>\n      <td>29226</td>\n      <td>1968</td>\n      <td>2</td>\n    </tr>\n  </tbody>\n</table>\n</div>"
     },
     "metadata": {},
     "execution_count": 8
    }
   ],
   "source": [
    "bike_2020_df.head(5)\n",
    "bike_2019_df.head(5)\n"
   ]
  },
  {
   "cell_type": "code",
   "execution_count": 9,
   "metadata": {},
   "outputs": [
    {
     "output_type": "execute_result",
     "data": {
      "text/plain": [
       "tripduration                 int64\n",
       "starttime                   object\n",
       "stoptime                    object\n",
       "start station id             int64\n",
       "start station name          object\n",
       "start station latitude     float64\n",
       "start station longitude    float64\n",
       "end station id               int64\n",
       "end station name            object\n",
       "end station latitude       float64\n",
       "end station longitude      float64\n",
       "bikeid                       int64\n",
       "birth year                   int64\n",
       "gender                       int64\n",
       "dtype: object"
      ]
     },
     "metadata": {},
     "execution_count": 9
    }
   ],
   "source": [
    "#checking types\n",
    "bike_2020_df.dtypes\n",
    "bike_2019_df.dtypes"
   ]
  },
  {
   "cell_type": "code",
   "execution_count": 10,
   "metadata": {},
   "outputs": [],
   "source": [
    "#changing type of values for gender column\n",
    "bike_2020_df['gender'] = bike_2020_df['gender'].astype(str)\n",
    "bike_2019_df['gender'] = bike_2019_df['gender'].astype(str)"
   ]
  },
  {
   "cell_type": "code",
   "execution_count": 12,
   "metadata": {},
   "outputs": [
    {
     "output_type": "execute_result",
     "data": {
      "text/plain": [
       "         tripduration                 starttime                  stoptime  \\\n",
       "0                4225  2020-09-01 00:00:01.0430  2020-09-01 01:10:26.6350   \n",
       "1                1868  2020-09-01 00:00:04.8320  2020-09-01 00:31:13.7650   \n",
       "2                1097  2020-09-01 00:00:06.8990  2020-09-01 00:18:24.2260   \n",
       "3                1473  2020-09-01 00:00:07.7440  2020-09-01 00:24:41.1800   \n",
       "4                1193  2020-09-01 00:00:12.2020  2020-09-01 00:20:05.5470   \n",
       "...               ...                       ...                       ...   \n",
       "2488220          1818  2020-09-30 23:59:48.8460  2020-10-01 00:30:07.7810   \n",
       "2488221          1553  2020-09-30 23:59:53.7240  2020-10-01 00:25:47.1760   \n",
       "2488222           626  2020-09-30 23:59:54.6670  2020-10-01 00:10:21.6050   \n",
       "2488223           325  2020-09-30 23:59:56.2120  2020-10-01 00:05:21.3060   \n",
       "2488224           128  2020-09-30 23:59:57.8350  2020-10-01 00:02:06.0920   \n",
       "\n",
       "         start station id               start station name  \\\n",
       "0                    3508  St Nicholas Ave & Manhattan Ave   \n",
       "1                    3621                    27 Ave & 9 St   \n",
       "2                    3492              E 118 St & Park Ave   \n",
       "3                    3946       St Nicholas Ave & W 137 St   \n",
       "4                    3081            Graham Ave & Grand St   \n",
       "...                   ...                              ...   \n",
       "2488220               284            Greenwich Ave & 8 Ave   \n",
       "2488221               390      Duffield St & Willoughby St   \n",
       "2488222              3901       Stanhope St & Fairview Ave   \n",
       "2488223              3148                  E 84 St & 1 Ave   \n",
       "2488224               439                   E 4 St & 2 Ave   \n",
       "\n",
       "         start station latitude  start station longitude  end station id  \\\n",
       "0                     40.809725               -73.953149             116   \n",
       "1                     40.773983               -73.930913            3094   \n",
       "2                     40.800539               -73.941995            3959   \n",
       "3                     40.818477               -73.947568            4002   \n",
       "4                     40.711863               -73.944024            3048   \n",
       "...                         ...                      ...             ...   \n",
       "2488220               40.739017               -74.002638            3836   \n",
       "2488221               40.692216               -73.984284            3799   \n",
       "2488222               40.709980               -73.911160            3083   \n",
       "2488223               40.775655               -73.950686            3338   \n",
       "2488224               40.726281               -73.989780             312   \n",
       "\n",
       "                            end station name  end station latitude  \\\n",
       "0                            W 17 St & 8 Ave             40.741776   \n",
       "1                    Graham Ave & Withers St             40.716981   \n",
       "2                   Edgecombe Ave & W 145 St             40.823498   \n",
       "3        W 144 St & Adam Clayton Powell Blvd             40.820877   \n",
       "4                  Putnam Ave & Nostrand Ave             40.684020   \n",
       "...                                      ...                   ...   \n",
       "2488220             Bushwick Ave & Linden St             40.691460   \n",
       "2488221                      6 Ave & W 34 St             40.749640   \n",
       "2488222             Bushwick Ave & Powers St             40.712477   \n",
       "2488223                      2 Ave & E 99 St             40.786259   \n",
       "2488224                Allen St & Stanton St             40.722055   \n",
       "\n",
       "         end station longitude  bikeid  birth year   gender  \n",
       "0                   -74.001497   44317        1979     Male  \n",
       "1                   -73.944859   37793        1991     Male  \n",
       "2                   -73.943860   41438        1984     Male  \n",
       "3                   -73.939249   35860        1990   Female  \n",
       "4                   -73.949770   26396        1969  Unknown  \n",
       "...                        ...     ...         ...      ...  \n",
       "2488220             -73.921460   36220        1993     Male  \n",
       "2488221             -73.988050   31092        1995     Male  \n",
       "2488222             -73.941000   47224        1954   Female  \n",
       "2488223             -73.945526   16759        1995   Female  \n",
       "2488224             -73.989111   47718        1996   Female  \n",
       "\n",
       "[2488225 rows x 14 columns]"
      ],
      "text/html": "<div>\n<style scoped>\n    .dataframe tbody tr th:only-of-type {\n        vertical-align: middle;\n    }\n\n    .dataframe tbody tr th {\n        vertical-align: top;\n    }\n\n    .dataframe thead th {\n        text-align: right;\n    }\n</style>\n<table border=\"1\" class=\"dataframe\">\n  <thead>\n    <tr style=\"text-align: right;\">\n      <th></th>\n      <th>tripduration</th>\n      <th>starttime</th>\n      <th>stoptime</th>\n      <th>start station id</th>\n      <th>start station name</th>\n      <th>start station latitude</th>\n      <th>start station longitude</th>\n      <th>end station id</th>\n      <th>end station name</th>\n      <th>end station latitude</th>\n      <th>end station longitude</th>\n      <th>bikeid</th>\n      <th>birth year</th>\n      <th>gender</th>\n    </tr>\n  </thead>\n  <tbody>\n    <tr>\n      <th>0</th>\n      <td>4225</td>\n      <td>2020-09-01 00:00:01.0430</td>\n      <td>2020-09-01 01:10:26.6350</td>\n      <td>3508</td>\n      <td>St Nicholas Ave &amp; Manhattan Ave</td>\n      <td>40.809725</td>\n      <td>-73.953149</td>\n      <td>116</td>\n      <td>W 17 St &amp; 8 Ave</td>\n      <td>40.741776</td>\n      <td>-74.001497</td>\n      <td>44317</td>\n      <td>1979</td>\n      <td>Male</td>\n    </tr>\n    <tr>\n      <th>1</th>\n      <td>1868</td>\n      <td>2020-09-01 00:00:04.8320</td>\n      <td>2020-09-01 00:31:13.7650</td>\n      <td>3621</td>\n      <td>27 Ave &amp; 9 St</td>\n      <td>40.773983</td>\n      <td>-73.930913</td>\n      <td>3094</td>\n      <td>Graham Ave &amp; Withers St</td>\n      <td>40.716981</td>\n      <td>-73.944859</td>\n      <td>37793</td>\n      <td>1991</td>\n      <td>Male</td>\n    </tr>\n    <tr>\n      <th>2</th>\n      <td>1097</td>\n      <td>2020-09-01 00:00:06.8990</td>\n      <td>2020-09-01 00:18:24.2260</td>\n      <td>3492</td>\n      <td>E 118 St &amp; Park Ave</td>\n      <td>40.800539</td>\n      <td>-73.941995</td>\n      <td>3959</td>\n      <td>Edgecombe Ave &amp; W 145 St</td>\n      <td>40.823498</td>\n      <td>-73.943860</td>\n      <td>41438</td>\n      <td>1984</td>\n      <td>Male</td>\n    </tr>\n    <tr>\n      <th>3</th>\n      <td>1473</td>\n      <td>2020-09-01 00:00:07.7440</td>\n      <td>2020-09-01 00:24:41.1800</td>\n      <td>3946</td>\n      <td>St Nicholas Ave &amp; W 137 St</td>\n      <td>40.818477</td>\n      <td>-73.947568</td>\n      <td>4002</td>\n      <td>W 144 St &amp; Adam Clayton Powell Blvd</td>\n      <td>40.820877</td>\n      <td>-73.939249</td>\n      <td>35860</td>\n      <td>1990</td>\n      <td>Female</td>\n    </tr>\n    <tr>\n      <th>4</th>\n      <td>1193</td>\n      <td>2020-09-01 00:00:12.2020</td>\n      <td>2020-09-01 00:20:05.5470</td>\n      <td>3081</td>\n      <td>Graham Ave &amp; Grand St</td>\n      <td>40.711863</td>\n      <td>-73.944024</td>\n      <td>3048</td>\n      <td>Putnam Ave &amp; Nostrand Ave</td>\n      <td>40.684020</td>\n      <td>-73.949770</td>\n      <td>26396</td>\n      <td>1969</td>\n      <td>Unknown</td>\n    </tr>\n    <tr>\n      <th>...</th>\n      <td>...</td>\n      <td>...</td>\n      <td>...</td>\n      <td>...</td>\n      <td>...</td>\n      <td>...</td>\n      <td>...</td>\n      <td>...</td>\n      <td>...</td>\n      <td>...</td>\n      <td>...</td>\n      <td>...</td>\n      <td>...</td>\n      <td>...</td>\n    </tr>\n    <tr>\n      <th>2488220</th>\n      <td>1818</td>\n      <td>2020-09-30 23:59:48.8460</td>\n      <td>2020-10-01 00:30:07.7810</td>\n      <td>284</td>\n      <td>Greenwich Ave &amp; 8 Ave</td>\n      <td>40.739017</td>\n      <td>-74.002638</td>\n      <td>3836</td>\n      <td>Bushwick Ave &amp; Linden St</td>\n      <td>40.691460</td>\n      <td>-73.921460</td>\n      <td>36220</td>\n      <td>1993</td>\n      <td>Male</td>\n    </tr>\n    <tr>\n      <th>2488221</th>\n      <td>1553</td>\n      <td>2020-09-30 23:59:53.7240</td>\n      <td>2020-10-01 00:25:47.1760</td>\n      <td>390</td>\n      <td>Duffield St &amp; Willoughby St</td>\n      <td>40.692216</td>\n      <td>-73.984284</td>\n      <td>3799</td>\n      <td>6 Ave &amp; W 34 St</td>\n      <td>40.749640</td>\n      <td>-73.988050</td>\n      <td>31092</td>\n      <td>1995</td>\n      <td>Male</td>\n    </tr>\n    <tr>\n      <th>2488222</th>\n      <td>626</td>\n      <td>2020-09-30 23:59:54.6670</td>\n      <td>2020-10-01 00:10:21.6050</td>\n      <td>3901</td>\n      <td>Stanhope St &amp; Fairview Ave</td>\n      <td>40.709980</td>\n      <td>-73.911160</td>\n      <td>3083</td>\n      <td>Bushwick Ave &amp; Powers St</td>\n      <td>40.712477</td>\n      <td>-73.941000</td>\n      <td>47224</td>\n      <td>1954</td>\n      <td>Female</td>\n    </tr>\n    <tr>\n      <th>2488223</th>\n      <td>325</td>\n      <td>2020-09-30 23:59:56.2120</td>\n      <td>2020-10-01 00:05:21.3060</td>\n      <td>3148</td>\n      <td>E 84 St &amp; 1 Ave</td>\n      <td>40.775655</td>\n      <td>-73.950686</td>\n      <td>3338</td>\n      <td>2 Ave &amp; E 99 St</td>\n      <td>40.786259</td>\n      <td>-73.945526</td>\n      <td>16759</td>\n      <td>1995</td>\n      <td>Female</td>\n    </tr>\n    <tr>\n      <th>2488224</th>\n      <td>128</td>\n      <td>2020-09-30 23:59:57.8350</td>\n      <td>2020-10-01 00:02:06.0920</td>\n      <td>439</td>\n      <td>E 4 St &amp; 2 Ave</td>\n      <td>40.726281</td>\n      <td>-73.989780</td>\n      <td>312</td>\n      <td>Allen St &amp; Stanton St</td>\n      <td>40.722055</td>\n      <td>-73.989111</td>\n      <td>47718</td>\n      <td>1996</td>\n      <td>Female</td>\n    </tr>\n  </tbody>\n</table>\n<p>2488225 rows × 14 columns</p>\n</div>"
     },
     "metadata": {},
     "execution_count": 12
    }
   ],
   "source": [
    "#changing values under gender column to male, female or unknown\n",
    "gender_check_2020 = bike_2020_df['gender']\n",
    "changed_2020_male = gender_check_2020.replace('1', 'Male')\n",
    "changed_2020_female = changed_2020_male.replace('2', 'Female')\n",
    "changed_2020_unknown = changed_2020_female.replace('0', 'Unknown')\n",
    "bike_2020_df['gender'] = changed_2020_unknown\n",
    "bike_2020_df"
   ]
  },
  {
   "cell_type": "code",
   "execution_count": 13,
   "metadata": {},
   "outputs": [
    {
     "output_type": "execute_result",
     "data": {
      "text/plain": [
       "       tripduration                 starttime                  stoptime  \\\n",
       "0               145  2019-09-01 00:00:37.6920  2019-09-01 00:03:03.0100   \n",
       "1               212  2019-09-01 00:03:00.6000  2019-09-01 00:06:33.3420   \n",
       "2               569  2019-09-01 00:07:13.0020  2019-09-01 00:16:42.8610   \n",
       "3              1380  2019-09-01 00:07:25.3350  2019-09-01 00:30:26.1640   \n",
       "4              1346  2019-09-01 00:07:56.4670  2019-09-01 00:30:22.5440   \n",
       "...             ...                       ...                       ...   \n",
       "49239           621  2019-09-30 23:11:40.0630  2019-09-30 23:22:01.8370   \n",
       "49240           167  2019-09-30 23:19:02.9380  2019-09-30 23:21:50.8290   \n",
       "49241            94  2019-09-30 23:26:24.7470  2019-09-30 23:27:59.2310   \n",
       "49242           366  2019-09-30 23:49:00.4260  2019-09-30 23:55:06.9620   \n",
       "49243           150  2019-09-30 23:56:30.1980  2019-09-30 23:59:00.6750   \n",
       "\n",
       "       start station id start station name  start station latitude  \\\n",
       "0                  3640     Journal Square               40.733670   \n",
       "1                  3194    McGinley Square               40.725340   \n",
       "2                  3214   Essex Light Rail               40.712774   \n",
       "3                  3214   Essex Light Rail               40.712774   \n",
       "4                  3214   Essex Light Rail               40.712774   \n",
       "...                 ...                ...                     ...   \n",
       "49239              3194    McGinley Square               40.725340   \n",
       "49240              3211         Newark Ave               40.721525   \n",
       "49241              3213     Van Vorst Park               40.718489   \n",
       "49242              3638      Washington St               40.724294   \n",
       "49243              3276   Marin Light Rail               40.714584   \n",
       "\n",
       "       start station longitude  end station id            end station name  \\\n",
       "0                   -74.062500            3206                     Hilltop   \n",
       "1                   -74.067622            3679                  Bergen Ave   \n",
       "2                   -74.036486            3184                 Paulus Hook   \n",
       "3                   -74.036486            3792  Columbus Dr at Exchange Pl   \n",
       "4                   -74.036486            3792  Columbus Dr at Exchange Pl   \n",
       "...                        ...             ...                         ...   \n",
       "49239               -74.067622            3191                    Union St   \n",
       "49240               -74.046305            3209                Brunswick St   \n",
       "49241               -74.047727            3483               Montgomery St   \n",
       "49242               -74.035483            3270             Jersey & 6th St   \n",
       "49243               -74.042817            3213              Van Vorst Park   \n",
       "\n",
       "       end station latitude  end station longitude  bikeid  birth year  gender  \n",
       "0                 40.731169             -74.057574   29303        1991    Male  \n",
       "1                 40.722104             -74.071455   29297        1993  Female  \n",
       "2                 40.714145             -74.033552   29435        1977    Male  \n",
       "3                 40.716870             -74.032810   29509        1965    Male  \n",
       "4                 40.716870             -74.032810   29226        1968  Female  \n",
       "...                     ...                    ...     ...         ...     ...  \n",
       "49239             40.718211             -74.083639   26245        1962    Male  \n",
       "49240             40.724176             -74.050656   29525        1984    Male  \n",
       "49241             40.719420             -74.050990   26317        1958    Male  \n",
       "49242             40.725289             -74.045572   29488        1976    Male  \n",
       "49243             40.718489             -74.047727   29498        1982    Male  \n",
       "\n",
       "[49244 rows x 14 columns]"
      ],
      "text/html": "<div>\n<style scoped>\n    .dataframe tbody tr th:only-of-type {\n        vertical-align: middle;\n    }\n\n    .dataframe tbody tr th {\n        vertical-align: top;\n    }\n\n    .dataframe thead th {\n        text-align: right;\n    }\n</style>\n<table border=\"1\" class=\"dataframe\">\n  <thead>\n    <tr style=\"text-align: right;\">\n      <th></th>\n      <th>tripduration</th>\n      <th>starttime</th>\n      <th>stoptime</th>\n      <th>start station id</th>\n      <th>start station name</th>\n      <th>start station latitude</th>\n      <th>start station longitude</th>\n      <th>end station id</th>\n      <th>end station name</th>\n      <th>end station latitude</th>\n      <th>end station longitude</th>\n      <th>bikeid</th>\n      <th>birth year</th>\n      <th>gender</th>\n    </tr>\n  </thead>\n  <tbody>\n    <tr>\n      <th>0</th>\n      <td>145</td>\n      <td>2019-09-01 00:00:37.6920</td>\n      <td>2019-09-01 00:03:03.0100</td>\n      <td>3640</td>\n      <td>Journal Square</td>\n      <td>40.733670</td>\n      <td>-74.062500</td>\n      <td>3206</td>\n      <td>Hilltop</td>\n      <td>40.731169</td>\n      <td>-74.057574</td>\n      <td>29303</td>\n      <td>1991</td>\n      <td>Male</td>\n    </tr>\n    <tr>\n      <th>1</th>\n      <td>212</td>\n      <td>2019-09-01 00:03:00.6000</td>\n      <td>2019-09-01 00:06:33.3420</td>\n      <td>3194</td>\n      <td>McGinley Square</td>\n      <td>40.725340</td>\n      <td>-74.067622</td>\n      <td>3679</td>\n      <td>Bergen Ave</td>\n      <td>40.722104</td>\n      <td>-74.071455</td>\n      <td>29297</td>\n      <td>1993</td>\n      <td>Female</td>\n    </tr>\n    <tr>\n      <th>2</th>\n      <td>569</td>\n      <td>2019-09-01 00:07:13.0020</td>\n      <td>2019-09-01 00:16:42.8610</td>\n      <td>3214</td>\n      <td>Essex Light Rail</td>\n      <td>40.712774</td>\n      <td>-74.036486</td>\n      <td>3184</td>\n      <td>Paulus Hook</td>\n      <td>40.714145</td>\n      <td>-74.033552</td>\n      <td>29435</td>\n      <td>1977</td>\n      <td>Male</td>\n    </tr>\n    <tr>\n      <th>3</th>\n      <td>1380</td>\n      <td>2019-09-01 00:07:25.3350</td>\n      <td>2019-09-01 00:30:26.1640</td>\n      <td>3214</td>\n      <td>Essex Light Rail</td>\n      <td>40.712774</td>\n      <td>-74.036486</td>\n      <td>3792</td>\n      <td>Columbus Dr at Exchange Pl</td>\n      <td>40.716870</td>\n      <td>-74.032810</td>\n      <td>29509</td>\n      <td>1965</td>\n      <td>Male</td>\n    </tr>\n    <tr>\n      <th>4</th>\n      <td>1346</td>\n      <td>2019-09-01 00:07:56.4670</td>\n      <td>2019-09-01 00:30:22.5440</td>\n      <td>3214</td>\n      <td>Essex Light Rail</td>\n      <td>40.712774</td>\n      <td>-74.036486</td>\n      <td>3792</td>\n      <td>Columbus Dr at Exchange Pl</td>\n      <td>40.716870</td>\n      <td>-74.032810</td>\n      <td>29226</td>\n      <td>1968</td>\n      <td>Female</td>\n    </tr>\n    <tr>\n      <th>...</th>\n      <td>...</td>\n      <td>...</td>\n      <td>...</td>\n      <td>...</td>\n      <td>...</td>\n      <td>...</td>\n      <td>...</td>\n      <td>...</td>\n      <td>...</td>\n      <td>...</td>\n      <td>...</td>\n      <td>...</td>\n      <td>...</td>\n      <td>...</td>\n    </tr>\n    <tr>\n      <th>49239</th>\n      <td>621</td>\n      <td>2019-09-30 23:11:40.0630</td>\n      <td>2019-09-30 23:22:01.8370</td>\n      <td>3194</td>\n      <td>McGinley Square</td>\n      <td>40.725340</td>\n      <td>-74.067622</td>\n      <td>3191</td>\n      <td>Union St</td>\n      <td>40.718211</td>\n      <td>-74.083639</td>\n      <td>26245</td>\n      <td>1962</td>\n      <td>Male</td>\n    </tr>\n    <tr>\n      <th>49240</th>\n      <td>167</td>\n      <td>2019-09-30 23:19:02.9380</td>\n      <td>2019-09-30 23:21:50.8290</td>\n      <td>3211</td>\n      <td>Newark Ave</td>\n      <td>40.721525</td>\n      <td>-74.046305</td>\n      <td>3209</td>\n      <td>Brunswick St</td>\n      <td>40.724176</td>\n      <td>-74.050656</td>\n      <td>29525</td>\n      <td>1984</td>\n      <td>Male</td>\n    </tr>\n    <tr>\n      <th>49241</th>\n      <td>94</td>\n      <td>2019-09-30 23:26:24.7470</td>\n      <td>2019-09-30 23:27:59.2310</td>\n      <td>3213</td>\n      <td>Van Vorst Park</td>\n      <td>40.718489</td>\n      <td>-74.047727</td>\n      <td>3483</td>\n      <td>Montgomery St</td>\n      <td>40.719420</td>\n      <td>-74.050990</td>\n      <td>26317</td>\n      <td>1958</td>\n      <td>Male</td>\n    </tr>\n    <tr>\n      <th>49242</th>\n      <td>366</td>\n      <td>2019-09-30 23:49:00.4260</td>\n      <td>2019-09-30 23:55:06.9620</td>\n      <td>3638</td>\n      <td>Washington St</td>\n      <td>40.724294</td>\n      <td>-74.035483</td>\n      <td>3270</td>\n      <td>Jersey &amp; 6th St</td>\n      <td>40.725289</td>\n      <td>-74.045572</td>\n      <td>29488</td>\n      <td>1976</td>\n      <td>Male</td>\n    </tr>\n    <tr>\n      <th>49243</th>\n      <td>150</td>\n      <td>2019-09-30 23:56:30.1980</td>\n      <td>2019-09-30 23:59:00.6750</td>\n      <td>3276</td>\n      <td>Marin Light Rail</td>\n      <td>40.714584</td>\n      <td>-74.042817</td>\n      <td>3213</td>\n      <td>Van Vorst Park</td>\n      <td>40.718489</td>\n      <td>-74.047727</td>\n      <td>29498</td>\n      <td>1982</td>\n      <td>Male</td>\n    </tr>\n  </tbody>\n</table>\n<p>49244 rows × 14 columns</p>\n</div>"
     },
     "metadata": {},
     "execution_count": 13
    }
   ],
   "source": [
    "#changing values under gender column to male, female or unknown\n",
    "gender_check_2019 = bike_2019_df['gender']\n",
    "changed_2019_male = gender_check_2019.replace('1', 'Male')\n",
    "changed_2019_female = changed_2019_male.replace('2', 'Female')\n",
    "changed_2019_unknown = changed_2019_female.replace('0', 'Unknown')\n",
    "bike_2019_df['gender'] = changed_2019_unknown\n",
    "bike_2019_df"
   ]
  },
  {
   "cell_type": "code",
   "execution_count": 14,
   "metadata": {},
   "outputs": [],
   "source": [
    "#calculating age for biker\n",
    "current_year = 2021\n",
    "\n",
    "birth_year_2020 = bike_2020_df['birth year']\n",
    "age = current_year - birth_year_2020\n",
    "bike_2020_df['age'] = age\n",
    "\n",
    "birth_year_2019 = bike_2019_df['birth year']\n",
    "age = current_year - birth_year_2019\n",
    "bike_2019_df['age'] = age"
   ]
  },
  {
   "cell_type": "code",
   "execution_count": 15,
   "metadata": {},
   "outputs": [
    {
     "output_type": "execute_result",
     "data": {
      "text/plain": [
       "   bikeid  gender  birth year  age  tripduration  start station id  \\\n",
       "0   29303    Male        1991   30           145              3640   \n",
       "1   29297  Female        1993   28           212              3194   \n",
       "2   29435    Male        1977   44           569              3214   \n",
       "3   29509    Male        1965   56          1380              3214   \n",
       "4   29226  Female        1968   53          1346              3214   \n",
       "\n",
       "  start station name  start station latitude  start station longitude  \\\n",
       "0     Journal Square               40.733670               -74.062500   \n",
       "1    McGinley Square               40.725340               -74.067622   \n",
       "2   Essex Light Rail               40.712774               -74.036486   \n",
       "3   Essex Light Rail               40.712774               -74.036486   \n",
       "4   Essex Light Rail               40.712774               -74.036486   \n",
       "\n",
       "                  starttime  end station id            end station name  \\\n",
       "0  2019-09-01 00:00:37.6920            3206                     Hilltop   \n",
       "1  2019-09-01 00:03:00.6000            3679                  Bergen Ave   \n",
       "2  2019-09-01 00:07:13.0020            3184                 Paulus Hook   \n",
       "3  2019-09-01 00:07:25.3350            3792  Columbus Dr at Exchange Pl   \n",
       "4  2019-09-01 00:07:56.4670            3792  Columbus Dr at Exchange Pl   \n",
       "\n",
       "   end station latitude  end station longitude                  stoptime  \n",
       "0             40.731169             -74.057574  2019-09-01 00:03:03.0100  \n",
       "1             40.722104             -74.071455  2019-09-01 00:06:33.3420  \n",
       "2             40.714145             -74.033552  2019-09-01 00:16:42.8610  \n",
       "3             40.716870             -74.032810  2019-09-01 00:30:26.1640  \n",
       "4             40.716870             -74.032810  2019-09-01 00:30:22.5440  "
      ],
      "text/html": "<div>\n<style scoped>\n    .dataframe tbody tr th:only-of-type {\n        vertical-align: middle;\n    }\n\n    .dataframe tbody tr th {\n        vertical-align: top;\n    }\n\n    .dataframe thead th {\n        text-align: right;\n    }\n</style>\n<table border=\"1\" class=\"dataframe\">\n  <thead>\n    <tr style=\"text-align: right;\">\n      <th></th>\n      <th>bikeid</th>\n      <th>gender</th>\n      <th>birth year</th>\n      <th>age</th>\n      <th>tripduration</th>\n      <th>start station id</th>\n      <th>start station name</th>\n      <th>start station latitude</th>\n      <th>start station longitude</th>\n      <th>starttime</th>\n      <th>end station id</th>\n      <th>end station name</th>\n      <th>end station latitude</th>\n      <th>end station longitude</th>\n      <th>stoptime</th>\n    </tr>\n  </thead>\n  <tbody>\n    <tr>\n      <th>0</th>\n      <td>29303</td>\n      <td>Male</td>\n      <td>1991</td>\n      <td>30</td>\n      <td>145</td>\n      <td>3640</td>\n      <td>Journal Square</td>\n      <td>40.733670</td>\n      <td>-74.062500</td>\n      <td>2019-09-01 00:00:37.6920</td>\n      <td>3206</td>\n      <td>Hilltop</td>\n      <td>40.731169</td>\n      <td>-74.057574</td>\n      <td>2019-09-01 00:03:03.0100</td>\n    </tr>\n    <tr>\n      <th>1</th>\n      <td>29297</td>\n      <td>Female</td>\n      <td>1993</td>\n      <td>28</td>\n      <td>212</td>\n      <td>3194</td>\n      <td>McGinley Square</td>\n      <td>40.725340</td>\n      <td>-74.067622</td>\n      <td>2019-09-01 00:03:00.6000</td>\n      <td>3679</td>\n      <td>Bergen Ave</td>\n      <td>40.722104</td>\n      <td>-74.071455</td>\n      <td>2019-09-01 00:06:33.3420</td>\n    </tr>\n    <tr>\n      <th>2</th>\n      <td>29435</td>\n      <td>Male</td>\n      <td>1977</td>\n      <td>44</td>\n      <td>569</td>\n      <td>3214</td>\n      <td>Essex Light Rail</td>\n      <td>40.712774</td>\n      <td>-74.036486</td>\n      <td>2019-09-01 00:07:13.0020</td>\n      <td>3184</td>\n      <td>Paulus Hook</td>\n      <td>40.714145</td>\n      <td>-74.033552</td>\n      <td>2019-09-01 00:16:42.8610</td>\n    </tr>\n    <tr>\n      <th>3</th>\n      <td>29509</td>\n      <td>Male</td>\n      <td>1965</td>\n      <td>56</td>\n      <td>1380</td>\n      <td>3214</td>\n      <td>Essex Light Rail</td>\n      <td>40.712774</td>\n      <td>-74.036486</td>\n      <td>2019-09-01 00:07:25.3350</td>\n      <td>3792</td>\n      <td>Columbus Dr at Exchange Pl</td>\n      <td>40.716870</td>\n      <td>-74.032810</td>\n      <td>2019-09-01 00:30:26.1640</td>\n    </tr>\n    <tr>\n      <th>4</th>\n      <td>29226</td>\n      <td>Female</td>\n      <td>1968</td>\n      <td>53</td>\n      <td>1346</td>\n      <td>3214</td>\n      <td>Essex Light Rail</td>\n      <td>40.712774</td>\n      <td>-74.036486</td>\n      <td>2019-09-01 00:07:56.4670</td>\n      <td>3792</td>\n      <td>Columbus Dr at Exchange Pl</td>\n      <td>40.716870</td>\n      <td>-74.032810</td>\n      <td>2019-09-01 00:30:22.5440</td>\n    </tr>\n  </tbody>\n</table>\n</div>"
     },
     "metadata": {},
     "execution_count": 15
    }
   ],
   "source": [
    "#updating columns\n",
    "\n",
    "bike_2020_df_organized = bike_2020_df[[\"bikeid\",\n",
    "                                       \"gender\",\n",
    "                                       \"birth year\",\n",
    "                                       \"age\",\n",
    "                                       \"tripduration\",\n",
    "                                       \"start station id\",\n",
    "                                       \"start station name\",\n",
    "                                       \"start station latitude\",\n",
    "                                       \"start station longitude\",\n",
    "                                       \"starttime\",\n",
    "                                       \"end station id\",\n",
    "                                       \"end station name\", \n",
    "                                       \"end station latitude\",\n",
    "                                       \"end station longitude\",\n",
    "                                       \"stoptime\"]]\n",
    "\n",
    "bike_2019_df_organized = bike_2019_df[[\"bikeid\",\n",
    "                                       \"gender\",\n",
    "                                       \"birth year\",\n",
    "                                       \"age\",\n",
    "                                       \"tripduration\",\n",
    "                                       \"start station id\",\n",
    "                                       \"start station name\",\n",
    "                                       \"start station latitude\",\n",
    "                                       \"start station longitude\",\n",
    "                                       \"starttime\",\n",
    "                                       \"end station id\",\n",
    "                                       \"end station name\", \n",
    "                                       \"end station latitude\",\n",
    "                                       \"end station longitude\",\n",
    "                                       \"stoptime\"]]\n",
    "\n",
    "bike_2020_df_organized.head(5)\n",
    "bike_2019_df_organized.head(5)"
   ]
  },
  {
   "cell_type": "code",
   "execution_count": 20,
   "metadata": {},
   "outputs": [
    {
     "output_type": "execute_result",
     "data": {
      "text/plain": [
       "       Bike ID  Gender  Birth Year  Age  Trip Duration  Start Station ID  \\\n",
       "0        29303    Male        1991   30            145              3640   \n",
       "1        29297  Female        1993   28            212              3194   \n",
       "2        29435    Male        1977   44            569              3214   \n",
       "3        29509    Male        1965   56           1380              3214   \n",
       "4        29226  Female        1968   53           1346              3214   \n",
       "...        ...     ...         ...  ...            ...               ...   \n",
       "49239    26245    Male        1962   59            621              3194   \n",
       "49240    29525    Male        1984   37            167              3211   \n",
       "49241    26317    Male        1958   63             94              3213   \n",
       "49242    29488    Male        1976   45            366              3638   \n",
       "49243    29498    Male        1982   39            150              3276   \n",
       "\n",
       "      Start Station Name  Start Station Latitude  Start Station Longitude  \\\n",
       "0         Journal Square               40.733670               -74.062500   \n",
       "1        McGinley Square               40.725340               -74.067622   \n",
       "2       Essex Light Rail               40.712774               -74.036486   \n",
       "3       Essex Light Rail               40.712774               -74.036486   \n",
       "4       Essex Light Rail               40.712774               -74.036486   \n",
       "...                  ...                     ...                      ...   \n",
       "49239    McGinley Square               40.725340               -74.067622   \n",
       "49240         Newark Ave               40.721525               -74.046305   \n",
       "49241     Van Vorst Park               40.718489               -74.047727   \n",
       "49242      Washington St               40.724294               -74.035483   \n",
       "49243   Marin Light Rail               40.714584               -74.042817   \n",
       "\n",
       "                     Start Time  End Station ID            end station name  \\\n",
       "0      2019-09-01 00:00:37.6920            3206                     Hilltop   \n",
       "1      2019-09-01 00:03:00.6000            3679                  Bergen Ave   \n",
       "2      2019-09-01 00:07:13.0020            3184                 Paulus Hook   \n",
       "3      2019-09-01 00:07:25.3350            3792  Columbus Dr at Exchange Pl   \n",
       "4      2019-09-01 00:07:56.4670            3792  Columbus Dr at Exchange Pl   \n",
       "...                         ...             ...                         ...   \n",
       "49239  2019-09-30 23:11:40.0630            3191                    Union St   \n",
       "49240  2019-09-30 23:19:02.9380            3209                Brunswick St   \n",
       "49241  2019-09-30 23:26:24.7470            3483               Montgomery St   \n",
       "49242  2019-09-30 23:49:00.4260            3270             Jersey & 6th St   \n",
       "49243  2019-09-30 23:56:30.1980            3213              Van Vorst Park   \n",
       "\n",
       "       End Station Latitude  End Station Longitude                 Stop Time  \n",
       "0                 40.731169             -74.057574  2019-09-01 00:03:03.0100  \n",
       "1                 40.722104             -74.071455  2019-09-01 00:06:33.3420  \n",
       "2                 40.714145             -74.033552  2019-09-01 00:16:42.8610  \n",
       "3                 40.716870             -74.032810  2019-09-01 00:30:26.1640  \n",
       "4                 40.716870             -74.032810  2019-09-01 00:30:22.5440  \n",
       "...                     ...                    ...                       ...  \n",
       "49239             40.718211             -74.083639  2019-09-30 23:22:01.8370  \n",
       "49240             40.724176             -74.050656  2019-09-30 23:21:50.8290  \n",
       "49241             40.719420             -74.050990  2019-09-30 23:27:59.2310  \n",
       "49242             40.725289             -74.045572  2019-09-30 23:55:06.9620  \n",
       "49243             40.718489             -74.047727  2019-09-30 23:59:00.6750  \n",
       "\n",
       "[49244 rows x 15 columns]"
      ],
      "text/html": "<div>\n<style scoped>\n    .dataframe tbody tr th:only-of-type {\n        vertical-align: middle;\n    }\n\n    .dataframe tbody tr th {\n        vertical-align: top;\n    }\n\n    .dataframe thead th {\n        text-align: right;\n    }\n</style>\n<table border=\"1\" class=\"dataframe\">\n  <thead>\n    <tr style=\"text-align: right;\">\n      <th></th>\n      <th>Bike ID</th>\n      <th>Gender</th>\n      <th>Birth Year</th>\n      <th>Age</th>\n      <th>Trip Duration</th>\n      <th>Start Station ID</th>\n      <th>Start Station Name</th>\n      <th>Start Station Latitude</th>\n      <th>Start Station Longitude</th>\n      <th>Start Time</th>\n      <th>End Station ID</th>\n      <th>end station name</th>\n      <th>End Station Latitude</th>\n      <th>End Station Longitude</th>\n      <th>Stop Time</th>\n    </tr>\n  </thead>\n  <tbody>\n    <tr>\n      <th>0</th>\n      <td>29303</td>\n      <td>Male</td>\n      <td>1991</td>\n      <td>30</td>\n      <td>145</td>\n      <td>3640</td>\n      <td>Journal Square</td>\n      <td>40.733670</td>\n      <td>-74.062500</td>\n      <td>2019-09-01 00:00:37.6920</td>\n      <td>3206</td>\n      <td>Hilltop</td>\n      <td>40.731169</td>\n      <td>-74.057574</td>\n      <td>2019-09-01 00:03:03.0100</td>\n    </tr>\n    <tr>\n      <th>1</th>\n      <td>29297</td>\n      <td>Female</td>\n      <td>1993</td>\n      <td>28</td>\n      <td>212</td>\n      <td>3194</td>\n      <td>McGinley Square</td>\n      <td>40.725340</td>\n      <td>-74.067622</td>\n      <td>2019-09-01 00:03:00.6000</td>\n      <td>3679</td>\n      <td>Bergen Ave</td>\n      <td>40.722104</td>\n      <td>-74.071455</td>\n      <td>2019-09-01 00:06:33.3420</td>\n    </tr>\n    <tr>\n      <th>2</th>\n      <td>29435</td>\n      <td>Male</td>\n      <td>1977</td>\n      <td>44</td>\n      <td>569</td>\n      <td>3214</td>\n      <td>Essex Light Rail</td>\n      <td>40.712774</td>\n      <td>-74.036486</td>\n      <td>2019-09-01 00:07:13.0020</td>\n      <td>3184</td>\n      <td>Paulus Hook</td>\n      <td>40.714145</td>\n      <td>-74.033552</td>\n      <td>2019-09-01 00:16:42.8610</td>\n    </tr>\n    <tr>\n      <th>3</th>\n      <td>29509</td>\n      <td>Male</td>\n      <td>1965</td>\n      <td>56</td>\n      <td>1380</td>\n      <td>3214</td>\n      <td>Essex Light Rail</td>\n      <td>40.712774</td>\n      <td>-74.036486</td>\n      <td>2019-09-01 00:07:25.3350</td>\n      <td>3792</td>\n      <td>Columbus Dr at Exchange Pl</td>\n      <td>40.716870</td>\n      <td>-74.032810</td>\n      <td>2019-09-01 00:30:26.1640</td>\n    </tr>\n    <tr>\n      <th>4</th>\n      <td>29226</td>\n      <td>Female</td>\n      <td>1968</td>\n      <td>53</td>\n      <td>1346</td>\n      <td>3214</td>\n      <td>Essex Light Rail</td>\n      <td>40.712774</td>\n      <td>-74.036486</td>\n      <td>2019-09-01 00:07:56.4670</td>\n      <td>3792</td>\n      <td>Columbus Dr at Exchange Pl</td>\n      <td>40.716870</td>\n      <td>-74.032810</td>\n      <td>2019-09-01 00:30:22.5440</td>\n    </tr>\n    <tr>\n      <th>...</th>\n      <td>...</td>\n      <td>...</td>\n      <td>...</td>\n      <td>...</td>\n      <td>...</td>\n      <td>...</td>\n      <td>...</td>\n      <td>...</td>\n      <td>...</td>\n      <td>...</td>\n      <td>...</td>\n      <td>...</td>\n      <td>...</td>\n      <td>...</td>\n      <td>...</td>\n    </tr>\n    <tr>\n      <th>49239</th>\n      <td>26245</td>\n      <td>Male</td>\n      <td>1962</td>\n      <td>59</td>\n      <td>621</td>\n      <td>3194</td>\n      <td>McGinley Square</td>\n      <td>40.725340</td>\n      <td>-74.067622</td>\n      <td>2019-09-30 23:11:40.0630</td>\n      <td>3191</td>\n      <td>Union St</td>\n      <td>40.718211</td>\n      <td>-74.083639</td>\n      <td>2019-09-30 23:22:01.8370</td>\n    </tr>\n    <tr>\n      <th>49240</th>\n      <td>29525</td>\n      <td>Male</td>\n      <td>1984</td>\n      <td>37</td>\n      <td>167</td>\n      <td>3211</td>\n      <td>Newark Ave</td>\n      <td>40.721525</td>\n      <td>-74.046305</td>\n      <td>2019-09-30 23:19:02.9380</td>\n      <td>3209</td>\n      <td>Brunswick St</td>\n      <td>40.724176</td>\n      <td>-74.050656</td>\n      <td>2019-09-30 23:21:50.8290</td>\n    </tr>\n    <tr>\n      <th>49241</th>\n      <td>26317</td>\n      <td>Male</td>\n      <td>1958</td>\n      <td>63</td>\n      <td>94</td>\n      <td>3213</td>\n      <td>Van Vorst Park</td>\n      <td>40.718489</td>\n      <td>-74.047727</td>\n      <td>2019-09-30 23:26:24.7470</td>\n      <td>3483</td>\n      <td>Montgomery St</td>\n      <td>40.719420</td>\n      <td>-74.050990</td>\n      <td>2019-09-30 23:27:59.2310</td>\n    </tr>\n    <tr>\n      <th>49242</th>\n      <td>29488</td>\n      <td>Male</td>\n      <td>1976</td>\n      <td>45</td>\n      <td>366</td>\n      <td>3638</td>\n      <td>Washington St</td>\n      <td>40.724294</td>\n      <td>-74.035483</td>\n      <td>2019-09-30 23:49:00.4260</td>\n      <td>3270</td>\n      <td>Jersey &amp; 6th St</td>\n      <td>40.725289</td>\n      <td>-74.045572</td>\n      <td>2019-09-30 23:55:06.9620</td>\n    </tr>\n    <tr>\n      <th>49243</th>\n      <td>29498</td>\n      <td>Male</td>\n      <td>1982</td>\n      <td>39</td>\n      <td>150</td>\n      <td>3276</td>\n      <td>Marin Light Rail</td>\n      <td>40.714584</td>\n      <td>-74.042817</td>\n      <td>2019-09-30 23:56:30.1980</td>\n      <td>3213</td>\n      <td>Van Vorst Park</td>\n      <td>40.718489</td>\n      <td>-74.047727</td>\n      <td>2019-09-30 23:59:00.6750</td>\n    </tr>\n  </tbody>\n</table>\n<p>49244 rows × 15 columns</p>\n</div>"
     },
     "metadata": {},
     "execution_count": 20
    }
   ],
   "source": [
    "# Renaming the Columns\n",
    "\n",
    "bike_2020_renamed_df = bike_2020_df_organized.rename(columns={\"bikeid\": \"Bike ID\",\n",
    "\"gender\": \"Gender\",\n",
    "\"birth year\":\"Birth Year\",\n",
    "\"age\": \"Age\",\n",
    "\"tripduration\": \"Trip Duration\",\n",
    "\"start station id\": \"Start Station ID\",\n",
    "\"start station name\": \"Start Station Name\",\n",
    "\"start station latitude\": \"Start Station Latitude\",\n",
    "\"start station longitude\": \"Start Station Longitude\",\n",
    "\"starttime\": \"Start Time\",\n",
    "\"end station id\": \"End Station ID\",\n",
    "\"end station latitude\": \"End Station Latitude\",\n",
    "\"end station longitude\": \"End Station Longitude\",\n",
    "\"stoptime\": \"Stop Time\"\n",
    "})\n",
    "\n",
    "\n",
    "bike_2019_renamed_df = bike_2019_df_organized.rename(columns={\"bikeid\": \"Bike ID\",\n",
    "\"gender\": \"Gender\",\n",
    "\"birth year\":\"Birth Year\",\n",
    "\"age\": \"Age\",\n",
    "\"tripduration\": \"Trip Duration\",\n",
    "\"start station id\": \"Start Station ID\",\n",
    "\"start station name\": \"Start Station Name\",\n",
    "\"start station latitude\": \"Start Station Latitude\",\n",
    "\"start station longitude\": \"Start Station Longitude\",\n",
    "\"starttime\": \"Start Time\",\n",
    "\"end station id\": \"End Station ID\",\n",
    "\"end station latitude\": \"End Station Latitude\",\n",
    "\"end station longitude\": \"End Station Longitude\",\n",
    "\"stoptime\": \"Stop Time\"\n",
    "})\n",
    "\n",
    "bike_2020_renamed_df\n",
    "bike_2019_renamed_df\n",
    "        \n"
   ]
  },
  {
   "cell_type": "code",
   "execution_count": null,
   "metadata": {},
   "outputs": [],
   "source": [
    "# Save both files to csv in Resources folder\n",
    "bike_2020_renamed_df.to_csv(\"Resources/2020_citibike_tripdata_cleaned.csv\", index=False, header=True)\n",
    "bike_2019_renamed_df.to_csv(\"Resources/2019_citibike_tripdata_cleaned.csv\", index=False, header=True)"
   ]
  }
 ]
}